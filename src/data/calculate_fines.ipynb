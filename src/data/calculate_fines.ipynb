{
 "cells": [
  {
   "cell_type": "code",
   "execution_count": 3,
   "metadata": {},
   "outputs": [
    {
     "data": {
      "text/html": [
       "<div>\n",
       "<style scoped>\n",
       "    .dataframe tbody tr th:only-of-type {\n",
       "        vertical-align: middle;\n",
       "    }\n",
       "\n",
       "    .dataframe tbody tr th {\n",
       "        vertical-align: top;\n",
       "    }\n",
       "\n",
       "    .dataframe thead th {\n",
       "        text-align: right;\n",
       "    }\n",
       "</style>\n",
       "<table border=\"1\" class=\"dataframe\">\n",
       "  <thead>\n",
       "    <tr style=\"text-align: right;\">\n",
       "      <th></th>\n",
       "      <th>Data Year</th>\n",
       "      <th>ID</th>\n",
       "      <th>Property Name</th>\n",
       "      <th>Reporting Status</th>\n",
       "      <th>Address</th>\n",
       "      <th>ZIP Code</th>\n",
       "      <th>Chicago Energy Rating</th>\n",
       "      <th>Exempt From Chicago Energy Rating</th>\n",
       "      <th>Community Area</th>\n",
       "      <th>Primary Property Type</th>\n",
       "      <th>...</th>\n",
       "      <th>GHG Intensity (kg CO2e/sq ft)</th>\n",
       "      <th>Latitude</th>\n",
       "      <th>Longitude</th>\n",
       "      <th>Location</th>\n",
       "      <th>Row_ID</th>\n",
       "      <th>Wards</th>\n",
       "      <th>Community Areas</th>\n",
       "      <th>Zip Codes</th>\n",
       "      <th>Census Tracts</th>\n",
       "      <th>Historical Wards 2003-2015</th>\n",
       "    </tr>\n",
       "  </thead>\n",
       "  <tbody>\n",
       "    <tr>\n",
       "      <th>0</th>\n",
       "      <td>2020</td>\n",
       "      <td>160214</td>\n",
       "      <td>Children's Memorial Hospital sub-building</td>\n",
       "      <td>Not Submitted</td>\n",
       "      <td>700 W Fullerton Ave</td>\n",
       "      <td>60614</td>\n",
       "      <td>0.0</td>\n",
       "      <td>False</td>\n",
       "      <td>LINCOLN PARK</td>\n",
       "      <td>NaN</td>\n",
       "      <td>...</td>\n",
       "      <td>NaN</td>\n",
       "      <td>41.925487</td>\n",
       "      <td>-87.646437</td>\n",
       "      <td>(41.92548708, -87.64643712)</td>\n",
       "      <td>2020-160214</td>\n",
       "      <td>34.0</td>\n",
       "      <td>68.0</td>\n",
       "      <td>21190.0</td>\n",
       "      <td>798.0</td>\n",
       "      <td>51.0</td>\n",
       "    </tr>\n",
       "    <tr>\n",
       "      <th>1</th>\n",
       "      <td>2020</td>\n",
       "      <td>104095</td>\n",
       "      <td>Hall Plaza</td>\n",
       "      <td>Not Submitted</td>\n",
       "      <td>4600 4650 W Diversey Ave</td>\n",
       "      <td>60639</td>\n",
       "      <td>0.0</td>\n",
       "      <td>False</td>\n",
       "      <td>HERMOSA</td>\n",
       "      <td>NaN</td>\n",
       "      <td>...</td>\n",
       "      <td>NaN</td>\n",
       "      <td>41.931623</td>\n",
       "      <td>-87.742526</td>\n",
       "      <td>(41.93162302, -87.74252593)</td>\n",
       "      <td>2020-104095</td>\n",
       "      <td>17.0</td>\n",
       "      <td>19.0</td>\n",
       "      <td>22615.0</td>\n",
       "      <td>460.0</td>\n",
       "      <td>7.0</td>\n",
       "    </tr>\n",
       "    <tr>\n",
       "      <th>2</th>\n",
       "      <td>2020</td>\n",
       "      <td>115108</td>\n",
       "      <td>NaN</td>\n",
       "      <td>Not Submitted</td>\n",
       "      <td>3825  N PINE GROVE AVE</td>\n",
       "      <td>60613</td>\n",
       "      <td>0.0</td>\n",
       "      <td>False</td>\n",
       "      <td>LAKE VIEW</td>\n",
       "      <td>NaN</td>\n",
       "      <td>...</td>\n",
       "      <td>NaN</td>\n",
       "      <td>41.954020</td>\n",
       "      <td>-87.662028</td>\n",
       "      <td>(41.95402016, -87.6620278)</td>\n",
       "      <td>2020-115108</td>\n",
       "      <td>18.0</td>\n",
       "      <td>57.0</td>\n",
       "      <td>21186.0</td>\n",
       "      <td>725.0</td>\n",
       "      <td>13.0</td>\n",
       "    </tr>\n",
       "  </tbody>\n",
       "</table>\n",
       "<p>3 rows × 35 columns</p>\n",
       "</div>"
      ],
      "text/plain": [
       "   Data Year      ID                              Property Name  \\\n",
       "0       2020  160214  Children's Memorial Hospital sub-building   \n",
       "1       2020  104095                                 Hall Plaza   \n",
       "2       2020  115108                                        NaN   \n",
       "\n",
       "  Reporting Status                   Address ZIP Code  Chicago Energy Rating  \\\n",
       "0    Not Submitted       700 W Fullerton Ave    60614                    0.0   \n",
       "1    Not Submitted  4600 4650 W Diversey Ave    60639                    0.0   \n",
       "2    Not Submitted    3825  N PINE GROVE AVE    60613                    0.0   \n",
       "\n",
       "   Exempt From Chicago Energy Rating Community Area Primary Property Type  \\\n",
       "0                              False   LINCOLN PARK                   NaN   \n",
       "1                              False        HERMOSA                   NaN   \n",
       "2                              False      LAKE VIEW                   NaN   \n",
       "\n",
       "   ...  GHG Intensity (kg CO2e/sq ft)   Latitude  Longitude  \\\n",
       "0  ...                            NaN  41.925487 -87.646437   \n",
       "1  ...                            NaN  41.931623 -87.742526   \n",
       "2  ...                            NaN  41.954020 -87.662028   \n",
       "\n",
       "                      Location       Row_ID  Wards  Community Areas  \\\n",
       "0  (41.92548708, -87.64643712)  2020-160214   34.0             68.0   \n",
       "1  (41.93162302, -87.74252593)  2020-104095   17.0             19.0   \n",
       "2   (41.95402016, -87.6620278)  2020-115108   18.0             57.0   \n",
       "\n",
       "   Zip Codes  Census Tracts  Historical Wards 2003-2015  \n",
       "0    21190.0          798.0                        51.0  \n",
       "1    22615.0          460.0                         7.0  \n",
       "2    21186.0          725.0                        13.0  \n",
       "\n",
       "[3 rows x 35 columns]"
      ]
     },
     "execution_count": 3,
     "metadata": {},
     "output_type": "execute_result"
    }
   ],
   "source": [
    "import pandas as pd\n",
    "\n",
    "building_df = pd.read_csv('./source/Chicago_Energy_Benchmarking_20240220_superset.csv')\n",
    "building_df.head(3)"
   ]
  },
  {
   "cell_type": "code",
   "execution_count": 5,
   "metadata": {},
   "outputs": [
    {
     "data": {
      "text/plain": [
       "Index(['Data Year', 'ID', 'Property Name', 'Reporting Status', 'Address',\n",
       "       'ZIP Code', 'Chicago Energy Rating',\n",
       "       'Exempt From Chicago Energy Rating', 'Community Area',\n",
       "       'Primary Property Type', 'Gross Floor Area - Buildings (sq ft)',\n",
       "       'Year Built', '# of Buildings', 'Water Use (kGal)', 'ENERGY STAR Score',\n",
       "       'Electricity Use (kBtu)', 'Natural Gas Use (kBtu)',\n",
       "       'District Steam Use (kBtu)', 'District Chilled Water Use (kBtu)',\n",
       "       'All Other Fuel Use (kBtu)', 'Site EUI (kBtu/sq ft)',\n",
       "       'Source EUI (kBtu/sq ft)', 'Weather Normalized Site EUI (kBtu/sq ft)',\n",
       "       'Weather Normalized Source EUI (kBtu/sq ft)',\n",
       "       'Total GHG Emissions (Metric Tons CO2e)',\n",
       "       'GHG Intensity (kg CO2e/sq ft)', 'Latitude', 'Longitude', 'Location',\n",
       "       'Row_ID', 'Wards', 'Community Areas', 'Zip Codes', 'Census Tracts',\n",
       "       'Historical Wards 2003-2015'],\n",
       "      dtype='object')"
      ]
     },
     "execution_count": 5,
     "metadata": {},
     "output_type": "execute_result"
    }
   ],
   "source": [
    "building_df.columns"
   ]
  },
  {
   "cell_type": "code",
   "execution_count": 8,
   "metadata": {},
   "outputs": [
    {
     "data": {
      "text/plain": [
       "Not Submitted    2905\n",
       "Name: Reporting Status, dtype: int64"
      ]
     },
     "execution_count": 8,
     "metadata": {},
     "output_type": "execute_result"
    }
   ],
   "source": [
    "building_df['Reporting Status'].value_counts()"
   ]
  },
  {
   "cell_type": "code",
   "execution_count": 17,
   "metadata": {},
   "outputs": [
    {
     "data": {
      "text/plain": [
       "2019    1080\n",
       "2022     732\n",
       "2021     608\n",
       "2020     485\n",
       "Name: Data Year, dtype: int64"
      ]
     },
     "execution_count": 17,
     "metadata": {},
     "output_type": "execute_result"
    }
   ],
   "source": [
    "building_df['Data Year'].value_counts()"
   ]
  },
  {
   "cell_type": "code",
   "execution_count": 22,
   "metadata": {},
   "outputs": [
    {
     "data": {
      "text/plain": [
       "1569"
      ]
     },
     "execution_count": 22,
     "metadata": {},
     "output_type": "execute_result"
    }
   ],
   "source": [
    "len(building_df['ID'].unique())"
   ]
  },
  {
   "cell_type": "code",
   "execution_count": 12,
   "metadata": {},
   "outputs": [
    {
     "data": {
      "text/html": [
       "<div>\n",
       "<style scoped>\n",
       "    .dataframe tbody tr th:only-of-type {\n",
       "        vertical-align: middle;\n",
       "    }\n",
       "\n",
       "    .dataframe tbody tr th {\n",
       "        vertical-align: top;\n",
       "    }\n",
       "\n",
       "    .dataframe thead th {\n",
       "        text-align: right;\n",
       "    }\n",
       "</style>\n",
       "<table border=\"1\" class=\"dataframe\">\n",
       "  <thead>\n",
       "    <tr style=\"text-align: right;\">\n",
       "      <th></th>\n",
       "      <th>ID</th>\n",
       "      <th>Property Name</th>\n",
       "      <th>Data Year</th>\n",
       "      <th>Gross Floor Area - Buildings (sq ft)</th>\n",
       "    </tr>\n",
       "  </thead>\n",
       "  <tbody>\n",
       "    <tr>\n",
       "      <th>0</th>\n",
       "      <td>160214</td>\n",
       "      <td>Children's Memorial Hospital sub-building</td>\n",
       "      <td>2020</td>\n",
       "      <td>257400.0</td>\n",
       "    </tr>\n",
       "    <tr>\n",
       "      <th>1</th>\n",
       "      <td>104095</td>\n",
       "      <td>Hall Plaza</td>\n",
       "      <td>2020</td>\n",
       "      <td>53267.0</td>\n",
       "    </tr>\n",
       "    <tr>\n",
       "      <th>2</th>\n",
       "      <td>115108</td>\n",
       "      <td>NaN</td>\n",
       "      <td>2020</td>\n",
       "      <td>96636.0</td>\n",
       "    </tr>\n",
       "  </tbody>\n",
       "</table>\n",
       "</div>"
      ],
      "text/plain": [
       "       ID                              Property Name  Data Year  \\\n",
       "0  160214  Children's Memorial Hospital sub-building       2020   \n",
       "1  104095                                 Hall Plaza       2020   \n",
       "2  115108                                        NaN       2020   \n",
       "\n",
       "   Gross Floor Area - Buildings (sq ft)  \n",
       "0                              257400.0  \n",
       "1                               53267.0  \n",
       "2                               96636.0  "
      ]
     },
     "execution_count": 12,
     "metadata": {},
     "output_type": "execute_result"
    }
   ],
   "source": [
    "building_df[['ID','Property Name','Data Year','Gross Floor Area - Buildings (sq ft)']].head(3)"
   ]
  },
  {
   "cell_type": "code",
   "execution_count": 30,
   "metadata": {},
   "outputs": [
    {
     "data": {
      "text/plain": [
       "'290,500'"
      ]
     },
     "execution_count": 30,
     "metadata": {},
     "output_type": "execute_result"
    }
   ],
   "source": [
    "'{:,}'.format(building_df[['ID','Data Year']].count().values[0] * 100)"
   ]
  },
  {
   "cell_type": "code",
   "execution_count": 31,
   "metadata": {},
   "outputs": [
    {
     "data": {
      "text/plain": [
       "'26,726,000'"
      ]
     },
     "execution_count": 31,
     "metadata": {},
     "output_type": "execute_result"
    }
   ],
   "source": [
    "'{:,}'.format(building_df[['ID','Data Year']].count().values[0] * 9200)"
   ]
  }
 ],
 "metadata": {
  "kernelspec": {
   "display_name": "base",
   "language": "python",
   "name": "python3"
  },
  "language_info": {
   "codemirror_mode": {
    "name": "ipython",
    "version": 3
   },
   "file_extension": ".py",
   "mimetype": "text/x-python",
   "name": "python",
   "nbconvert_exporter": "python",
   "pygments_lexer": "ipython3",
   "version": "3.7.3"
  }
 },
 "nbformat": 4,
 "nbformat_minor": 2
}
